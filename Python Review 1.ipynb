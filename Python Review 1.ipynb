{
 "cells": [
  {
   "cell_type": "markdown",
   "metadata": {},
   "source": [
    "# Python Review "
   ]
  },
  {
   "cell_type": "markdown",
   "metadata": {},
   "source": [
    "Sequence"
   ]
  },
  {
   "cell_type": "code",
   "execution_count": 5,
   "metadata": {},
   "outputs": [
    {
     "name": "stdout",
     "output_type": "stream",
     "text": [
      "Hello World\n"
     ]
    }
   ],
   "source": [
    "# print any message e.g \"Hello world \"\n",
    "print (\"Hello World\")"
   ]
  },
  {
   "cell_type": "code",
   "execution_count": 6,
   "metadata": {},
   "outputs": [
    {
     "name": "stdout",
     "output_type": "stream",
     "text": [
      "Welcome to Python Programming!\n"
     ]
    }
   ],
   "source": [
    "message = 'Welcome to Python Programming!'\n",
    "print(message)"
   ]
  },
  {
   "cell_type": "code",
   "execution_count": 11,
   "metadata": {},
   "outputs": [
    {
     "name": "stdout",
     "output_type": "stream",
     "text": [
      "Hello, John Lourd Marcus De Leon ! You are 10000 years old.\n"
     ]
    }
   ],
   "source": [
    "# create a Python code that ask a user for his/her name.\n",
    "# Then, display the message \"Hello, (name)\"\n",
    "\n",
    "name = input (\"Enter your name: \")\n",
    "age = int(input (\"Enter your age: \"))\n",
    "# print (\"Hello,\", name)\n",
    "# print (\"Hello,\"+ name)\n",
    "print (f\"Hello, {name}! You are {age} years old.\")"
   ]
  },
  {
   "cell_type": "code",
   "execution_count": 13,
   "metadata": {},
   "outputs": [
    {
     "name": "stdout",
     "output_type": "stream",
     "text": [
      "a + b = 13\n",
      "a - b = 7\n",
      "a * b = 30\n",
      "a / b = 3.3333333333333335\n",
      "a % b = 2\n",
      "a ** b = 1000\n",
      "a // b = 3\n"
     ]
    }
   ],
   "source": [
    "# Mathematical Operators: +, -, *, /, %, **, //\n",
    "a = 10 # operands \n",
    "b = 3 \n",
    "# LYNDO LUSAC\n",
    "print(f'a + b = {a+b}')\n",
    "print(f'a - b = {a-b}')\n",
    "print(f'a * b = {a*b}')\n",
    "print(f'a / b = {a/b}')\n",
    "print(f'a % b = {a&b}')\n",
    "print(f'a ** b = {a**b}')\n",
    "print(f'a // b = {a//b}')"
   ]
  },
  {
   "cell_type": "code",
   "execution_count": 14,
   "metadata": {},
   "outputs": [
    {
     "name": "stdout",
     "output_type": "stream",
     "text": [
      "a == b: True\n",
      "a != b: False\n",
      "a > b: False\n",
      "a >= b: True\n",
      "a < b: False\n",
      "a <= b: True\n"
     ]
    }
   ],
   "source": [
    "# Relational operators: ==, !=, >, >=, <, <=\n",
    "a = 10 \n",
    "a = 3\n",
    "# Lyndo Lusac\n",
    "print(f'a == b: {a==b}')\n",
    "print(f'a != b: {a!=b}')\n",
    "print(f'a > b: {a>b}')\n",
    "print(f'a >= b: {a>=b}')\n",
    "print(f'a < b: {a<b}')\n",
    "print(f'a <= b: {a<=b}')"
   ]
  },
  {
   "cell_type": "code",
   "execution_count": 15,
   "metadata": {},
   "outputs": [
    {
     "name": "stdout",
     "output_type": "stream",
     "text": [
      "true and True: True\n"
     ]
    }
   ],
   "source": [
    "# Logical: and, or not\n",
    "#and \n",
    "print (\"True and True:\", (True and True))\n",
    "print (\"True and False:\", (True and False))\n",
    "\n"
   ]
  },
  {
   "cell_type": "markdown",
   "metadata": {},
   "source": [
    "Selection"
   ]
  },
  {
   "cell_type": "code",
   "execution_count": 16,
   "metadata": {},
   "outputs": [
    {
     "name": "stdout",
     "output_type": "stream",
     "text": [
      "Congratulations, you may vote\n",
      "Inside the if block\n",
      "Outside the if block\n"
     ]
    }
   ],
   "source": [
    "# Ask the user for his/her age.\n",
    "# If the user is at least 18 years old, then\n",
    "# display the message \"Congratulations, you may vote\"\n",
    "# single alternative if\n",
    "# if condition:\n",
    "    # if block\n",
    "age = int(input (\"Enter your age: \"))\n",
    "if age >= 18:\n",
    "    print(\"Congratulations, you may vote\")\n",
    "    print(\"Inside the if block\")\n",
    "print(\"Outside the if block\")\n",
    "\n"
   ]
  },
  {
   "cell_type": "code",
   "execution_count": 19,
   "metadata": {},
   "outputs": [
    {
     "name": "stdout",
     "output_type": "stream",
     "text": [
      "You may not vote yet.\n",
      "Inside the else block\n",
      "End of Program\n"
     ]
    }
   ],
   "source": [
    "# Dual alternative if\n",
    "# Ask the user for his/her age.\n",
    "# If the user is at least 18 years old, then\n",
    "# display the message \"Congratulations, you may vote\"\n",
    "# Otherwise, display the message \"You may not vote yet.\"\n",
    "# if condition:\n",
    "    # if block\n",
    "# else:\n",
    "    # else block\n",
    "age = int(input (\"Enter your age: \"))\n",
    "if age >= 18:\n",
    "    print(\"Congratulations, you may vote\")\n",
    "    print(\"Inside the if block\")\n",
    "else: \n",
    "    print(\"You may not vote yet.\")\n",
    "    print(\"Inside the else block\")\n",
    "print(\"End of Program\")\n"
   ]
  },
  {
   "cell_type": "code",
   "execution_count": 1,
   "metadata": {},
   "outputs": [
    {
     "name": "stdout",
     "output_type": "stream",
     "text": [
      "Positive\n"
     ]
    }
   ],
   "source": [
    "# Create a program  that ask a user for an integer.\n",
    "# Then display if the integer is positive, negative or zero.\n",
    "value = int(input(\"Enter an Integer: \"))\n",
    "if value > 0:\n",
    "    print(\"Positive\")\n",
    "elif value < 0:\n",
    "    print('Negative')\n",
    "else:\n",
    "    print(\"Zero\")"
   ]
  },
  {
   "cell_type": "markdown",
   "metadata": {},
   "source": [
    "Looping"
   ]
  },
  {
   "cell_type": "code",
   "execution_count": 5,
   "metadata": {},
   "outputs": [
    {
     "name": "stdout",
     "output_type": "stream",
     "text": [
      "0 1 2 3 4 5 6 7 8 9 10 11 12 13 14 15 16 17 18 19 20 "
     ]
    }
   ],
   "source": [
    "# print consecutive nonnegative integers less than or equal to 20\n",
    "MAX = 20\n",
    "for value in range(MAX+1):\n",
    "    print(value, end =\" \")"
   ]
  },
  {
   "cell_type": "code",
   "execution_count": 6,
   "metadata": {},
   "outputs": [
    {
     "name": "stdout",
     "output_type": "stream",
     "text": [
      "0 1 2 3 4 5 6 7 8 9 10 11 12 13 14 15 16 17 18 19 20 "
     ]
    }
   ],
   "source": [
    "# loop control vairiable (lcv)\n",
    "# lcv must be initialized, tested, changed\n",
    "# print consecutive nonnegative integers less than or equal to 20\n",
    "# use while\n",
    "# while condition\n",
    "#   loop body\n",
    "MAX = 20\n",
    "value = 0   # lcv initialized\n",
    "while value <= 20:  #lcv tested\n",
    "    print(value, end = \" \")\n",
    "    value = value + 1   # lcv changed "
   ]
  },
  {
   "cell_type": "code",
   "execution_count": 12,
   "metadata": {},
   "outputs": [
    {
     "name": "stdout",
     "output_type": "stream",
     "text": [
      "using for loop\n",
      "1 2 3 4 5 6 7 8 9 10 11 12 13 14 15 16 17 18 19 20 \n",
      "using while loop\n",
      "1 2 3 4 5 6 7 8 9 10 11 12 13 14 15 16 17 18 19 20 "
     ]
    }
   ],
   "source": [
    "# print consecutive nonnegative integers less than or equal to 20\n",
    "MAX = 20\n",
    "# for\n",
    "print(\"using for loop\")\n",
    "for value in range(1, MAX+1):\n",
    "    print(value, end = \" \")\n",
    "\n",
    "print (\"\\nusing while loop\")\n",
    "num = 1\n",
    "while num <= MAX:\n",
    "    print(num, end = \" \")\n",
    "    num = num + 1"
   ]
  },
  {
   "cell_type": "code",
   "execution_count": 14,
   "metadata": {},
   "outputs": [
    {
     "name": "stdout",
     "output_type": "stream",
     "text": [
      "using for loop\n",
      "3 6 9 12 15 18 21 24 27 30 33 36 39 42 45 48 51 54 57 60 63 66 69 72 75 78 81 84 87 90 93 96 99 \n",
      "using while loop\n",
      "3 6 9 12 15 18 21 24 27 30 33 36 39 42 45 48 51 54 57 60 63 66 69 72 75 78 81 84 87 90 93 96 99 "
     ]
    }
   ],
   "source": [
    "# print consecutive positive multiples of less than 100 \n",
    "MAX = 100\n",
    "print('using for loop')\n",
    "for value in range(3, MAX, 3):\n",
    "    print(value, end = \" \")\n",
    "print ('\\nusing while loop')\n",
    "num = 3 \n",
    "while num < MAX:\n",
    "    print(num, end = \" \")\n",
    "    num = num + 3"
   ]
  },
  {
   "cell_type": "code",
   "execution_count": 15,
   "metadata": {},
   "outputs": [
    {
     "name": "stdout",
     "output_type": "stream",
     "text": [
      "Before reassignment\n",
      "left: june\n",
      "middle: japhet\n",
      "right: tim\n",
      "reassignment\n",
      "left: tim\n",
      "middle: june\n",
      "right: japhet\n"
     ]
    }
   ],
   "source": [
    "# multi-valued assignment \n",
    "left, middle, right = 'june', 'japhet', 'tim'\n",
    "print('Before reassignment')\n",
    "print(f'left: {left}')\n",
    "print(f'middle: {middle}')\n",
    "print(f'right: {right}')\n",
    "print('Reassignment')\n",
    "left, middle, right = middle, right, left \n",
    "print(f'left: {middle}')\n",
    "print(f'middle: {right}')\n",
    "print(f'right: {left}')"
   ]
  },
  {
   "cell_type": "code",
   "execution_count": 19,
   "metadata": {},
   "outputs": [
    {
     "name": "stdout",
     "output_type": "stream",
     "text": [
      "Your 3 and 6 are equal to the hypotenuse: 6.708203932499369\n"
     ]
    }
   ],
   "source": [
    "# Create a function that computes the length of the \n",
    "# hypotenuse given the lengths of its legs \n",
    "# a * a + b * b = c * c, where a and b are the lengths of the legs \n",
    "# and c is the lenght of the hypotenuse\n",
    "import math\n",
    "def computeHyp (a, b):\n",
    "    c = math.sqrt(a * a + b * b)\n",
    "    return c\n",
    "\n",
    "# ask a user to  two integers to represent\n",
    "# of the legs, then display the length of the \n",
    "# hypotenuse; use compute()\n",
    "# Lynds\n",
    "a = int(input(\"input your first integer:\"))\n",
    "b = int(input(\"input your second integer:\"))\n",
    "print(f'Your {a} and {b} are equal to the hypotenuse: {computeHyp(a ,b)}')\n",
    "\n",
    "# example of miss roselle\n",
    "length_a = int(input('Enter a value: '))\n",
    "length_b = int(input('Enter a value: '))\n",
    "length_c = computeHyp (a, b)\n",
    "print(f'The length of the hypotenuse of a right triangle with legs {length_a} and {length_b} is {length_c}')"
   ]
  },
  {
   "cell_type": "code",
   "execution_count": 21,
   "metadata": {},
   "outputs": [
    {
     "name": "stdout",
     "output_type": "stream",
     "text": [
      "Good morning, Monica!\n",
      "Good morning, Chandler!\n",
      "Good morning, Ross!\n",
      "Good morning, Rachel!\n",
      "Good morning, Phoebe!\n",
      "Good morning, Joey!\n",
      "\n",
      "using indices\n",
      "Good morning, Monica!\n",
      "Good morning, Chandler!\n",
      "Good morning, Ross!\n",
      "Good morning, Rachel!\n",
      "Good morning, Phoebe!\n",
      "Good morning, Joey!\n"
     ]
    }
   ],
   "source": [
    "friends = ['Monica', 'Chandler', 'Ross', 'Rachel', 'Phoebe', 'Joey']\n",
    "for kaibigan in friends:\n",
    "    print(f'Good morning, {kaibigan}!')\n",
    "\n",
    "print('\\nusing indices')\n",
    "for index in range(len(friends)):\n",
    "    print(f'Good morning, {friends[index]}!')\n"
   ]
  },
  {
   "cell_type": "code",
   "execution_count": 22,
   "metadata": {},
   "outputs": [
    {
     "name": "stdout",
     "output_type": "stream",
     "text": [
      "Good morning, Monica!\n",
      "Good morning, Chandler!\n",
      "Good morning, Pedro!\n",
      "Good morning, Rachel!\n",
      "Good morning, Phoebe!\n",
      "Good morning, Joey!\n"
     ]
    }
   ],
   "source": [
    "# lsit aer mutable\n",
    "friends[2] = 'Pedro'\n",
    "for kaibigan in friends:\n",
    "    print(f'Good morning, {kaibigan}!')"
   ]
  },
  {
   "cell_type": "code",
   "execution_count": 23,
   "metadata": {},
   "outputs": [
    {
     "name": "stdout",
     "output_type": "stream",
     "text": [
      "Good morning, Monica!\n",
      "Good morning, Chandler!\n",
      "Good morning, Pedro!\n",
      "Good morning, Rachel!\n",
      "Good morning, Phoebe!\n",
      "Good morning, Joey!\n",
      "Good morning, Jose!\n",
      "You now have 7 friends\n"
     ]
    }
   ],
   "source": [
    "# to add an element, use append()\n",
    "friends.append(\"Jose\")\n",
    "for kaibigan in friends:\n",
    "    print(f'Good morning, {kaibigan}!')\n",
    "print(f'You now have {len(friends)} friends')"
   ]
  },
  {
   "cell_type": "code",
   "execution_count": 24,
   "metadata": {},
   "outputs": [
    {
     "name": "stdout",
     "output_type": "stream",
     "text": [
      "True\n"
     ]
    }
   ],
   "source": [
    "# keyword 'in' - to check if a value is in the list \n",
    "print ('Jose' in friends)"
   ]
  },
  {
   "cell_type": "code",
   "execution_count": 25,
   "metadata": {},
   "outputs": [
    {
     "name": "stdout",
     "output_type": "stream",
     "text": [
      "False\n"
     ]
    }
   ],
   "source": [
    "print ('Roselle' in friends)"
   ]
  },
  {
   "cell_type": "code",
   "execution_count": 26,
   "metadata": {},
   "outputs": [
    {
     "name": "stdout",
     "output_type": "stream",
     "text": [
      "True\n"
     ]
    }
   ],
   "source": [
    "print ('Roselle' not in friends)"
   ]
  },
  {
   "cell_type": "code",
   "execution_count": null,
   "metadata": {},
   "outputs": [],
   "source": [
    "age = 18\n",
    "if age >= 18:\n",
    "    print(\"Voter!\")\n",
    "else:\n",
    "    pass"
   ]
  },
  {
   "cell_type": "code",
   "execution_count": null,
   "metadata": {},
   "outputs": [],
   "source": [
    "def push(item):\n",
    "    pass"
   ]
  },
  {
   "cell_type": "code",
   "execution_count": 15,
   "metadata": {},
   "outputs": [
    {
     "name": "stdout",
     "output_type": "stream",
     "text": [
      "Name: June\n",
      "Breed: askal\n",
      "Name: Gwyn\n",
      "Breed: Chiwawa\n"
     ]
    }
   ],
   "source": [
    "# Lyndo Lusac\n",
    "class Dog:\n",
    "    def __init__(self, name, breed):\n",
    "        self.name = name \n",
    "        self.breed = breed\n",
    "\n",
    "boyDog = Dog(\"June\", \"askal\")\n",
    "print(f\"Name: {boyDog.name}\")\n",
    "print(f\"Breed: {boyDog.breed}\")\n",
    "\n",
    "girlDog = Dog(\"Gwyn\", \"Chiwawa\")\n",
    "print(f\"Name: {girlDog.name}\")\n",
    "print(f\"Breed: {girlDog.breed}\")"
   ]
  },
  {
   "cell_type": "code",
   "execution_count": 21,
   "metadata": {},
   "outputs": [],
   "source": [
    "class Car:\n",
    "    def __init__(self, make, model, year):\n",
    "        self.make = make \n",
    "        self.model = model\n",
    "        self.year = year\n",
    "        self._odometer = 0\n",
    "    def get_odometer(self):\n",
    "        return self._odometer\n",
    "    def set_odometer(self, miles):\n",
    "        if miles >= self._odometer:\n",
    "            self._odometer = miles\n",
    "        else:\n",
    "            print(\"Odometer cannot be rolled back\")\n",
    "    def increment_odometer(self, miles):\n",
    "        if miles > 0:\n",
    "            self._odometer += miles\n",
    "        else: \n",
    "            print(\"You  cant increment odometer with a negative number!\")\n",
    "    def get_description(self):\n",
    "        long_name = f\"{self.year} {self.make} {self.model}\"\n",
    "        return long_name.title()"
   ]
  },
  {
   "cell_type": "code",
   "execution_count": 20,
   "metadata": {},
   "outputs": [
    {
     "name": "stdout",
     "output_type": "stream",
     "text": [
      "2019 Audi A4\n",
      "Initial Odemeter: 0 miles.\n",
      "Odemeter after update: 100 miles.\n",
      "Odometer cannot be rolled back\n",
      "Odemeter after increment: 150 miles.\n",
      "You  cant increment odometer with a negative number!\n"
     ]
    }
   ],
   "source": [
    "my_car = Car(\"audi\", \"a4\", 2019)\n",
    "print(my_car.get_description())\n",
    "print(f\"Initial Odemeter: {my_car.get_odometer()} miles.\")\n",
    "my_car.set_odometer(100)\n",
    "print(f\"Odemeter after update: {my_car.get_odometer()} miles.\")\n",
    "my_car.set_odometer(50)\n",
    "my_car.increment_odometer(50)\n",
    "print(f\"Odemeter after increment: {my_car.get_odometer()} miles.\")\n",
    "my_car.increment_odometer(-50)"
   ]
  },
  {
   "cell_type": "code",
   "execution_count": 22,
   "metadata": {},
   "outputs": [],
   "source": [
    "class Person:\n",
    "    def __init__(self, first, last):\n",
    "        self.fname = first\n",
    "        self.lname = last\n",
    "    def get_name(self):\n",
    "        return f\"{self.fname} {self.lname}\".title()"
   ]
  },
  {
   "cell_type": "code",
   "execution_count": 23,
   "metadata": {},
   "outputs": [],
   "source": [
    "# Lyndo M. Lusac\n",
    "class Student(Person):\n",
    "    def __init__(self, first, last, id_num):\n",
    "        Person.__init__(self, first, last)\n",
    "        self.id = id_num\n",
    "    def print_student_details(self):\n",
    "        return self.get_name() + \" \" + self.id"
   ]
  },
  {
   "cell_type": "code",
   "execution_count": 24,
   "metadata": {},
   "outputs": [],
   "source": [
    "Kupal = Person(\"june\", \"malabanan\")\n",
    "student = Student('june', 'malabanan', '092222')"
   ]
  },
  {
   "cell_type": "code",
   "execution_count": 25,
   "metadata": {},
   "outputs": [
    {
     "name": "stdout",
     "output_type": "stream",
     "text": [
      "june malabanan\n",
      "june malabanan 092222\n"
     ]
    }
   ],
   "source": [
    "print(Kupal.get_name())\n",
    "print(student.print_student_details())"
   ]
  },
  {
   "cell_type": "code",
   "execution_count": 26,
   "metadata": {},
   "outputs": [],
   "source": [
    "# Polymorphism Example\n",
    "class Vehicle:\n",
    "    def __init__(self, make, model, year):\n",
    "        self.make = make\n",
    "        self.model = model\n",
    "        self.year = year\n",
    "    def get_description(self):\n",
    "        return f\"{self.year} {self.make} {self.model}\"\n",
    "    def move(self):\n",
    "        return \"Vehicle is moving...\"\n",
    "\n"
   ]
  },
  {
   "cell_type": "code",
   "execution_count": 29,
   "metadata": {},
   "outputs": [
    {
     "name": "stdout",
     "output_type": "stream",
     "text": [
      "2022 Toyota Camry\n",
      "Car is driving on the road\n",
      "2020 Sailboat Oceanic\n",
      "Boat is sailing on the water \n",
      "2023 Boeing 747\n",
      "Airplane is flying in the sky\n"
     ]
    }
   ],
   "source": [
    "class Car(Vehicle):\n",
    "    def move(self):\n",
    "        return \"Car is driving on the road\"\n",
    "\n",
    "class Boat(Vehicle):\n",
    "    def move(self):\n",
    "        return \"Boat is sailing on the water \"\n",
    "\n",
    "class Airplane(Vehicle):\n",
    "    def move(self):\n",
    "        return \"Airplane is flying in the sky\"\n",
    "\n",
    "# Polymorphic behavior\n",
    "vehicles_list = [\n",
    "    Car(\"Toyota\", \"Camry\", 2022),\n",
    "    Boat(\"Sailboat\", \"Oceanic\", 2020), \n",
    "    Airplane(\"Boeing\", \"747\", 2023)\n",
    "]\n",
    "\n",
    "for vehicle in vehicles_list:\n",
    "    print(vehicle.get_description())\n",
    "    print(vehicle.move())"
   ]
  },
  {
   "cell_type": "code",
   "execution_count": 28,
   "metadata": {},
   "outputs": [
    {
     "ename": "NameError",
     "evalue": "name 'Boat' is not defined",
     "output_type": "error",
     "traceback": [
      "\u001b[1;31m---------------------------------------------------------------------------\u001b[0m",
      "\u001b[1;31mNameError\u001b[0m                                 Traceback (most recent call last)",
      "Cell \u001b[1;32mIn[28], line 4\u001b[0m\n\u001b[0;32m      1\u001b[0m \u001b[38;5;66;03m# Polymorphic behavior\u001b[39;00m\n\u001b[0;32m      2\u001b[0m vehicles_list \u001b[38;5;241m=\u001b[39m [\n\u001b[0;32m      3\u001b[0m     Car(\u001b[38;5;124m\"\u001b[39m\u001b[38;5;124mToyota\u001b[39m\u001b[38;5;124m\"\u001b[39m, \u001b[38;5;124m\"\u001b[39m\u001b[38;5;124mCamry\u001b[39m\u001b[38;5;124m\"\u001b[39m, \u001b[38;5;241m2022\u001b[39m),\n\u001b[1;32m----> 4\u001b[0m     Boat(\u001b[38;5;124m\"\u001b[39m\u001b[38;5;124mSailboat\u001b[39m\u001b[38;5;124m\"\u001b[39m, \u001b[38;5;124m\"\u001b[39m\u001b[38;5;124mOceanic\u001b[39m\u001b[38;5;124m\"\u001b[39m, \u001b[38;5;241m2020\u001b[39m), \n\u001b[0;32m      5\u001b[0m     Airplane(\u001b[38;5;124m\"\u001b[39m\u001b[38;5;124mBoeing\u001b[39m\u001b[38;5;124m\"\u001b[39m, \u001b[38;5;124m\"\u001b[39m\u001b[38;5;124m747\u001b[39m\u001b[38;5;124m\"\u001b[39m, \u001b[38;5;241m2023\u001b[39m)\n\u001b[0;32m      6\u001b[0m ]\n",
      "\u001b[1;31mNameError\u001b[0m: name 'Boat' is not defined"
     ]
    }
   ],
   "source": []
  },
  {
   "cell_type": "code",
   "execution_count": null,
   "metadata": {},
   "outputs": [],
   "source": []
  }
 ],
 "metadata": {
  "interpreter": {
   "hash": "b89b5cfaba6639976dc87ff2fec6d58faec662063367e2c229c520fe71072417"
  },
  "kernelspec": {
   "display_name": "Python 3.10.3 64-bit",
   "language": "python",
   "name": "python3"
  },
  "language_info": {
   "codemirror_mode": {
    "name": "ipython",
    "version": 3
   },
   "file_extension": ".py",
   "mimetype": "text/x-python",
   "name": "python",
   "nbconvert_exporter": "python",
   "pygments_lexer": "ipython3",
   "version": "3.11.7"
  },
  "orig_nbformat": 4
 },
 "nbformat": 4,
 "nbformat_minor": 2
}
