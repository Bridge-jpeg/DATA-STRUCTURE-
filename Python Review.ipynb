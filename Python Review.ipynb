{
 "cells": [
  {
   "cell_type": "markdown",
   "metadata": {},
   "source": [
    "# Python Review "
   ]
  },
  {
   "cell_type": "markdown",
   "metadata": {},
   "source": [
    "Sequence"
   ]
  },
  {
   "cell_type": "code",
   "execution_count": 18,
   "metadata": {},
   "outputs": [
    {
     "name": "stdout",
     "output_type": "stream",
     "text": [
      "Hello World\n"
     ]
    }
   ],
   "source": [
    "# print any message e.g \"Hello world \"\n",
    "print (\"Hello World\")"
   ]
  },
  {
   "cell_type": "code",
   "execution_count": 19,
   "metadata": {},
   "outputs": [
    {
     "name": "stdout",
     "output_type": "stream",
     "text": [
      "Welcome to Python Programming!\n"
     ]
    }
   ],
   "source": [
    "message = 'Welcome to Python Programming!'\n",
    "print(message)"
   ]
  },
  {
   "cell_type": "code",
   "execution_count": 20,
   "metadata": {},
   "outputs": [
    {
     "name": "stdout",
     "output_type": "stream",
     "text": [
      "Hello, 0! You are 0 years old.\n"
     ]
    }
   ],
   "source": [
    "# create a Python code that ask a user for his/her name.\n",
    "# Then, display the message \"Hello, (name)\"\n",
    "\n",
    "name = input (\"Enter your name: \")\n",
    "age = int(input (\"Enter your age: \"))\n",
    "# print (\"Hello,\", name)\n",
    "# print (\"Hello,\"+ name)\n",
    "print (f\"Hello, {name}! You are {age} years old.\")"
   ]
  },
  {
   "cell_type": "code",
   "execution_count": 21,
   "metadata": {},
   "outputs": [
    {
     "name": "stdout",
     "output_type": "stream",
     "text": [
      "a + b = 13\n",
      "a - b = 7\n",
      "a * b = 30\n",
      "a / b = 3.3333333333333335\n",
      "a % b = 2\n",
      "a ** b = 1000\n",
      "a // b = 3\n"
     ]
    }
   ],
   "source": [
    "# Mathematical Operators: +, -, *, /, %, **, //\n",
    "a = 10 # operands \n",
    "b = 3 \n",
    "# LYNDO LUSAC\n",
    "print(f'a + b = {a+b}')\n",
    "print(f'a - b = {a-b}')\n",
    "print(f'a * b = {a*b}')\n",
    "print(f'a / b = {a/b}')\n",
    "print(f'a % b = {a&b}')\n",
    "print(f'a ** b = {a**b}')\n",
    "print(f'a // b = {a//b}')"
   ]
  },
  {
   "cell_type": "code",
   "execution_count": 22,
   "metadata": {},
   "outputs": [
    {
     "name": "stdout",
     "output_type": "stream",
     "text": [
      "a == b: True\n",
      "a != b: False\n",
      "a > b: False\n",
      "a >= b: True\n",
      "a < b: False\n",
      "a <= b: True\n"
     ]
    }
   ],
   "source": [
    "# Relational operators: ==, !=, >, >=, <, <=\n",
    "a = 10 \n",
    "a = 3\n",
    "# Lyndo Lusac\n",
    "print(f'a == b: {a==b}')\n",
    "print(f'a != b: {a!=b}')\n",
    "print(f'a > b: {a>b}')\n",
    "print(f'a >= b: {a>=b}')\n",
    "print(f'a < b: {a<b}')\n",
    "print(f'a <= b: {a<=b}')"
   ]
  },
  {
   "cell_type": "code",
   "execution_count": 23,
   "metadata": {},
   "outputs": [
    {
     "name": "stdout",
     "output_type": "stream",
     "text": [
      "True and True: True\n",
      "True and False: False\n"
     ]
    }
   ],
   "source": [
    "# Logical: and, or not\n",
    "#and \n",
    "print (\"True and True:\", (True and True))\n",
    "print (\"True and False:\", (True and False))\n",
    "\n"
   ]
  },
  {
   "cell_type": "markdown",
   "metadata": {},
   "source": [
    "Selection"
   ]
  },
  {
   "cell_type": "code",
   "execution_count": 24,
   "metadata": {},
   "outputs": [
    {
     "name": "stdout",
     "output_type": "stream",
     "text": [
      "Outside the if block\n"
     ]
    }
   ],
   "source": [
    "# Ask the user for his/her age.\n",
    "# If the user is at least 18 years old, then\n",
    "# display the message \"Congratulations, you may vote\"\n",
    "# single alternative if\n",
    "# if condition:\n",
    "    # if block\n",
    "age = int(input (\"Enter your age: \"))\n",
    "if age >= 18:\n",
    "    print(\"Congratulations, you may vote\")\n",
    "    print(\"Inside the if block\")\n",
    "print(\"Outside the if block\")\n",
    "\n"
   ]
  },
  {
   "cell_type": "code",
   "execution_count": 25,
   "metadata": {},
   "outputs": [
    {
     "name": "stdout",
     "output_type": "stream",
     "text": [
      "You may not vote yet.\n",
      "Inside the else block\n",
      "End of Program\n"
     ]
    }
   ],
   "source": [
    "# Dual alternative if\n",
    "# Ask the user for his/her age.\n",
    "# If the user is at least 18 years old, then\n",
    "# display the message \"Congratulations, you may vote\"\n",
    "# Otherwise, display the message \"You may not vote yet.\"\n",
    "# if condition:\n",
    "    # if block\n",
    "# else:\n",
    "    # else block\n",
    "age = int(input (\"Enter your age: \"))\n",
    "if age >= 18:\n",
    "    print(\"Congratulations, you may vote\")\n",
    "    print(\"Inside the if block\")\n",
    "else: \n",
    "    print(\"You may not vote yet.\")\n",
    "    print(\"Inside the else block\")\n",
    "print(\"End of Program\")\n"
   ]
  },
  {
   "cell_type": "code",
   "execution_count": 26,
   "metadata": {},
   "outputs": [
    {
     "name": "stdout",
     "output_type": "stream",
     "text": [
      "Zero\n"
     ]
    }
   ],
   "source": [
    "# Create a program  that ask a user for an integer.\n",
    "# Then display if the integer is positive, negative or zero.\n",
    "value = int(input(\"Enter an Integer: \"))\n",
    "if value > 0:\n",
    "    print(\"Positive\")\n",
    "elif value < 0:\n",
    "    print('Negative')\n",
    "else:\n",
    "    print(\"Zero\")"
   ]
  },
  {
   "cell_type": "markdown",
   "metadata": {},
   "source": [
    "Looping"
   ]
  },
  {
   "cell_type": "code",
   "execution_count": 27,
   "metadata": {},
   "outputs": [
    {
     "name": "stdout",
     "output_type": "stream",
     "text": [
      "0 1 2 3 4 5 6 7 8 9 10 11 12 13 14 15 16 17 18 19 20 "
     ]
    }
   ],
   "source": [
    "# print consecutive nonnegative integers less than or equal to 20\n",
    "MAX = 20\n",
    "for value in range(MAX+1):\n",
    "    print(value, end =\" \")"
   ]
  },
  {
   "cell_type": "code",
   "execution_count": 28,
   "metadata": {},
   "outputs": [
    {
     "name": "stdout",
     "output_type": "stream",
     "text": [
      "0 1 2 3 4 5 6 7 8 9 10 11 12 13 14 15 16 17 18 19 20 "
     ]
    }
   ],
   "source": [
    "# loop control vairiable (lcv)\n",
    "# lcv must be initialized, tested, changed\n",
    "# print consecutive nonnegative integers less than or equal to 20\n",
    "# use while\n",
    "# while condition\n",
    "#   loop body\n",
    "MAX = 20\n",
    "value = 0   # lcv initialized\n",
    "while value <= 20:  #lcv tested\n",
    "    print(value, end = \" \")\n",
    "    value = value + 1   # lcv changed "
   ]
  },
  {
   "cell_type": "code",
   "execution_count": 29,
   "metadata": {},
   "outputs": [
    {
     "name": "stdout",
     "output_type": "stream",
     "text": [
      "using for loop\n",
      "1 2 3 4 5 6 7 8 9 10 11 12 13 14 15 16 17 18 19 20 \n",
      "using while loop\n",
      "1 2 3 4 5 6 7 8 9 10 11 12 13 14 15 16 17 18 19 20 "
     ]
    }
   ],
   "source": [
    "# print consecutive nonnegative integers less than or equal to 20\n",
    "MAX = 20\n",
    "# for\n",
    "print(\"using for loop\")\n",
    "for value in range(1, MAX+1):\n",
    "    print(value, end = \" \")\n",
    "\n",
    "print (\"\\nusing while loop\")\n",
    "num = 1\n",
    "while num <= MAX:\n",
    "    print(num, end = \" \")\n",
    "    num = num + 1"
   ]
  },
  {
   "cell_type": "code",
   "execution_count": 30,
   "metadata": {},
   "outputs": [
    {
     "name": "stdout",
     "output_type": "stream",
     "text": [
      "using for loop\n",
      "3 6 9 12 15 18 21 24 27 30 33 36 39 42 45 48 51 54 57 60 63 66 69 72 75 78 81 84 87 90 93 96 99 \n",
      "using while loop\n",
      "3 6 9 12 15 18 21 24 27 30 33 36 39 42 45 48 51 54 57 60 63 66 69 72 75 78 81 84 87 90 93 96 99 "
     ]
    }
   ],
   "source": [
    "# print consecutive positive multiples of less than 100 \n",
    "MAX = 100\n",
    "print('using for loop')\n",
    "for value in range(3, MAX, 3):\n",
    "    print(value, end = \" \")\n",
    "print ('\\nusing while loop')\n",
    "num = 3 \n",
    "while num < MAX:\n",
    "    print(num, end = \" \")\n",
    "    num = num + 3"
   ]
  },
  {
   "cell_type": "code",
   "execution_count": 31,
   "metadata": {},
   "outputs": [
    {
     "name": "stdout",
     "output_type": "stream",
     "text": [
      "Before reassignment\n",
      "left: june\n",
      "middle: japhet\n",
      "right: tim\n",
      "Reassignment\n",
      "left: tim\n",
      "middle: june\n",
      "right: japhet\n"
     ]
    }
   ],
   "source": [
    "# multi-valued assignment \n",
    "left, middle, right = 'june', 'japhet', 'tim'\n",
    "print('Before reassignment')\n",
    "print(f'left: {left}')\n",
    "print(f'middle: {middle}')\n",
    "print(f'right: {right}')\n",
    "print('Reassignment')\n",
    "left, middle, right = middle, right, left \n",
    "print(f'left: {middle}')\n",
    "print(f'middle: {right}')\n",
    "print(f'right: {left}')"
   ]
  },
  {
   "cell_type": "code",
   "execution_count": 32,
   "metadata": {},
   "outputs": [
    {
     "name": "stdout",
     "output_type": "stream",
     "text": [
      "Your 0 and 0 are equal to the hypotenuse: 0.0\n",
      "The length of the hypotenuse of a right triangle with legs 0 and 0 is 0.0\n"
     ]
    }
   ],
   "source": [
    "# Create a function that computes the length of the \n",
    "# hypotenuse given the lengths of its legs \n",
    "# a * a + b * b = c * c, where a and b are the lengths of the legs \n",
    "# and c is the lenght of the hypotenuse\n",
    "import math\n",
    "def computeHyp (a, b):\n",
    "    c = math.sqrt(a * a + b * b)\n",
    "    return c\n",
    "\n",
    "# ask a user to  two integers to represent\n",
    "# of the legs, then display the length of the \n",
    "# hypotenuse; use compute()\n",
    "# Lynds\n",
    "a = int(input(\"input your first integer:\"))\n",
    "b = int(input(\"input your second integer:\"))\n",
    "print(f'Your {a} and {b} are equal to the hypotenuse: {computeHyp(a ,b)}')\n",
    "\n",
    "# example of miss roselle\n",
    "length_a = int(input('Enter a value: '))\n",
    "length_b = int(input('Enter a value: '))\n",
    "length_c = computeHyp (a, b)\n",
    "print(f'The length of the hypotenuse of a right triangle with legs {length_a} and {length_b} is {length_c}')"
   ]
  },
  {
   "cell_type": "code",
   "execution_count": 33,
   "metadata": {},
   "outputs": [
    {
     "name": "stdout",
     "output_type": "stream",
     "text": [
      "Good morning, Monica!\n",
      "Good morning, Chandler!\n",
      "Good morning, Ross!\n",
      "Good morning, Rachel!\n",
      "Good morning, Phoebe!\n",
      "Good morning, Joey!\n",
      "\n",
      "using indices\n",
      "Good morning, Monica!\n",
      "Good morning, Chandler!\n",
      "Good morning, Ross!\n",
      "Good morning, Rachel!\n",
      "Good morning, Phoebe!\n",
      "Good morning, Joey!\n"
     ]
    }
   ],
   "source": [
    "friends = ['Monica', 'Chandler', 'Ross', 'Rachel', 'Phoebe', 'Joey']\n",
    "for kaibigan in friends:\n",
    "    print(f'Good morning, {kaibigan}!')\n",
    "\n",
    "print('\\nusing indices')\n",
    "for index in range(len(friends)):\n",
    "    print(f'Good morning, {friends[index]}!')\n"
   ]
  },
  {
   "cell_type": "code",
   "execution_count": 34,
   "metadata": {},
   "outputs": [
    {
     "name": "stdout",
     "output_type": "stream",
     "text": [
      "Good morning, Monica!\n",
      "Good morning, Chandler!\n",
      "Good morning, Pedro!\n",
      "Good morning, Rachel!\n",
      "Good morning, Phoebe!\n",
      "Good morning, Joey!\n"
     ]
    }
   ],
   "source": [
    "# lsit aer mutable\n",
    "friends[2] = 'Pedro'\n",
    "for kaibigan in friends:\n",
    "    print(f'Good morning, {kaibigan}!')"
   ]
  },
  {
   "cell_type": "code",
   "execution_count": 35,
   "metadata": {},
   "outputs": [
    {
     "name": "stdout",
     "output_type": "stream",
     "text": [
      "Good morning, Monica!\n",
      "Good morning, Chandler!\n",
      "Good morning, Pedro!\n",
      "Good morning, Rachel!\n",
      "Good morning, Phoebe!\n",
      "Good morning, Joey!\n",
      "Good morning, Jose!\n",
      "You now have 7 friends\n"
     ]
    }
   ],
   "source": [
    "# to add an element, use append()\n",
    "friends.append(\"Jose\")\n",
    "for kaibigan in friends:\n",
    "    print(f'Good morning, {kaibigan}!')\n",
    "print(f'You now have {len(friends)} friends')"
   ]
  },
  {
   "cell_type": "code",
   "execution_count": 36,
   "metadata": {},
   "outputs": [
    {
     "name": "stdout",
     "output_type": "stream",
     "text": [
      "True\n"
     ]
    }
   ],
   "source": [
    "# keyword 'in' - to check if a value is in the list \n",
    "print ('Jose' in friends)"
   ]
  },
  {
   "cell_type": "code",
   "execution_count": 37,
   "metadata": {},
   "outputs": [
    {
     "name": "stdout",
     "output_type": "stream",
     "text": [
      "False\n"
     ]
    }
   ],
   "source": [
    "print ('Roselle' in friends)"
   ]
  },
  {
   "cell_type": "code",
   "execution_count": 38,
   "metadata": {},
   "outputs": [
    {
     "name": "stdout",
     "output_type": "stream",
     "text": [
      "True\n"
     ]
    }
   ],
   "source": [
    "print ('Roselle' not in friends)"
   ]
  },
  {
   "cell_type": "code",
   "execution_count": 39,
   "metadata": {},
   "outputs": [
    {
     "name": "stdout",
     "output_type": "stream",
     "text": [
      "Voter!\n"
     ]
    }
   ],
   "source": [
    "age = 18\n",
    "if age >= 18:\n",
    "    print(\"Voter!\")\n",
    "else:\n",
    "    pass"
   ]
  },
  {
   "cell_type": "code",
   "execution_count": 40,
   "metadata": {},
   "outputs": [],
   "source": [
    "def push(item):\n",
    "    pass"
   ]
  },
  {
   "cell_type": "code",
   "execution_count": 41,
   "metadata": {},
   "outputs": [
    {
     "name": "stdout",
     "output_type": "stream",
     "text": [
      "Name: June\n",
      "Breed: askal\n",
      "Name: Gwyn\n",
      "Breed: Chiwawa\n"
     ]
    }
   ],
   "source": [
    "# Lyndo Lusac\n",
    "class Dog:\n",
    "    def __init__(self, name, breed):\n",
    "        self.name = name \n",
    "        self.breed = breed\n",
    "\n",
    "boyDog = Dog(\"June\", \"askal\")\n",
    "print(f\"Name: {boyDog.name}\")\n",
    "print(f\"Breed: {boyDog.breed}\")\n",
    "\n",
    "girlDog = Dog(\"Gwyn\", \"Chiwawa\")\n",
    "print(f\"Name: {girlDog.name}\")\n",
    "print(f\"Breed: {girlDog.breed}\")"
   ]
  },
  {
   "cell_type": "code",
   "execution_count": 42,
   "metadata": {},
   "outputs": [],
   "source": [
    "class Car:\n",
    "    def __init__(self, make, model, year):\n",
    "        self.make = make \n",
    "        self.model = model\n",
    "        self.year = year\n",
    "        self._odometer = 0\n",
    "    def get_odometer(self):\n",
    "        return self._odometer\n",
    "    def set_odometer(self, miles):\n",
    "        if miles >= self._odometer:\n",
    "            self._odometer = miles\n",
    "        else:\n",
    "            print(\"Odometer cannot be rolled back\")\n",
    "    def increment_odometer(self, miles):\n",
    "        if miles > 0:\n",
    "            self._odometer += miles\n",
    "        else: \n",
    "            print(\"You  cant increment odometer with a negative number!\")\n",
    "    def get_description(self):\n",
    "        long_name = f\"{self.year} {self.make} {self.model}\"\n",
    "        return long_name.title()"
   ]
  },
  {
   "cell_type": "code",
   "execution_count": 43,
   "metadata": {},
   "outputs": [
    {
     "name": "stdout",
     "output_type": "stream",
     "text": [
      "2019 Audi A4\n",
      "Initial Odemeter: 0 miles.\n",
      "Odemeter after update: 100 miles.\n",
      "Odometer cannot be rolled back\n",
      "Odemeter after increment: 150 miles.\n",
      "You  cant increment odometer with a negative number!\n"
     ]
    }
   ],
   "source": [
    "my_car = Car(\"audi\", \"a4\", 2019)\n",
    "print(my_car.get_description())\n",
    "print(f\"Initial Odemeter: {my_car.get_odometer()} miles.\")\n",
    "my_car.set_odometer(100)\n",
    "print(f\"Odemeter after update: {my_car.get_odometer()} miles.\")\n",
    "my_car.set_odometer(50)\n",
    "my_car.increment_odometer(50)\n",
    "print(f\"Odemeter after increment: {my_car.get_odometer()} miles.\")\n",
    "my_car.increment_odometer(-50)"
   ]
  },
  {
   "cell_type": "code",
   "execution_count": 44,
   "metadata": {},
   "outputs": [],
   "source": [
    "class Person:\n",
    "    def __init__(self, first, last):\n",
    "        self.fname = first\n",
    "        self.lname = last\n",
    "    def get_name(self):\n",
    "        return f\"{self.fname} {self.lname}\".title()"
   ]
  },
  {
   "cell_type": "code",
   "execution_count": 45,
   "metadata": {},
   "outputs": [],
   "source": [
    "# Lyndo M. Lusac\n",
    "class Student(Person):\n",
    "    def __init__(self, first, last, id_num):\n",
    "        Person.__init__(self, first, last)\n",
    "        self.id = id_num\n",
    "    def print_student_details(self):\n",
    "        return self.get_name() + \" \" + self.id"
   ]
  },
  {
   "cell_type": "code",
   "execution_count": 46,
   "metadata": {},
   "outputs": [],
   "source": [
    "Kupal = Person(\"june\", \"malabanan\")\n",
    "student = Student('june', 'malabanan', '092222')"
   ]
  },
  {
   "cell_type": "code",
   "execution_count": 47,
   "metadata": {},
   "outputs": [
    {
     "name": "stdout",
     "output_type": "stream",
     "text": [
      "June Malabanan\n",
      "June Malabanan 092222\n"
     ]
    }
   ],
   "source": [
    "print(Kupal.get_name())\n",
    "print(student.print_student_details())"
   ]
  },
  {
   "cell_type": "code",
   "execution_count": 48,
   "metadata": {},
   "outputs": [],
   "source": [
    "# Polymorphism Example\n",
    "class Vehicle:\n",
    "    def __init__(self, make, model, year):\n",
    "        self.make = make\n",
    "        self.model = model\n",
    "        self.year = year\n",
    "    def get_description(self):\n",
    "        return f\"{self.year} {self.make} {self.model}\"\n",
    "    def move(self):\n",
    "        return \"Vehicle is moving...\"\n",
    "\n"
   ]
  },
  {
   "cell_type": "code",
   "execution_count": 49,
   "metadata": {},
   "outputs": [
    {
     "name": "stdout",
     "output_type": "stream",
     "text": [
      "2022 Toyota Camry\n",
      "Car is driving on the road\n",
      "2020 Sailboat Oceanic\n",
      "Boat is sailing on the water \n",
      "2023 Boeing 747\n",
      "Airplane is flying in the sky\n"
     ]
    }
   ],
   "source": [
    "class Car(Vehicle):\n",
    "    def move(self):\n",
    "        return \"Car is driving on the road\"\n",
    "\n",
    "class Boat(Vehicle):\n",
    "    def move(self):\n",
    "        return \"Boat is sailing on the water \"\n",
    "\n",
    "class Airplane(Vehicle):\n",
    "    def move(self):\n",
    "        return \"Airplane is flying in the sky\"\n",
    "\n",
    "# Polymorphic behavior\n",
    "vehicles_list = [\n",
    "    Car(\"Toyota\", \"Camry\", 2022),\n",
    "    Boat(\"Sailboat\", \"Oceanic\", 2020), \n",
    "    Airplane(\"Boeing\", \"747\", 2023)\n",
    "]\n",
    "\n",
    "for vehicle in vehicles_list:\n",
    "    print(vehicle.get_description())\n",
    "    print(vehicle.move())"
   ]
  },
  {
   "cell_type": "code",
   "execution_count": 50,
   "metadata": {},
   "outputs": [
    {
     "name": "stdout",
     "output_type": "stream",
     "text": [
      "[None, None, None, None, None]\n"
     ]
    }
   ],
   "source": [
    "lyst = [None] * 5\n",
    "print(lyst)"
   ]
  },
  {
   "cell_type": "code",
   "execution_count": 51,
   "metadata": {},
   "outputs": [
    {
     "name": "stdout",
     "output_type": "stream",
     "text": [
      "[False, False, False, False, False, False, False, False, False, False]\n"
     ]
    }
   ],
   "source": [
    "SIZE = 10\n",
    "boolean_list = [False] * SIZE\n",
    "print(boolean_list)"
   ]
  },
  {
   "cell_type": "code",
   "execution_count": 52,
   "metadata": {},
   "outputs": [
    {
     "name": "stdout",
     "output_type": "stream",
     "text": [
      "[0, 0, 0, 0, 0]\n"
     ]
    }
   ],
   "source": [
    "lyst2 = [0 for _ in range (5)] #list comprehension\n",
    "print(lyst2)"
   ]
  },
  {
   "cell_type": "code",
   "execution_count": 53,
   "metadata": {},
   "outputs": [
    {
     "name": "stdout",
     "output_type": "stream",
     "text": [
      "[0, 1, 4, 9, 16]\n"
     ]
    }
   ],
   "source": [
    "lyst3 = [x**2 for x in range(5)]\n",
    "print(lyst3)"
   ]
  },
  {
   "cell_type": "code",
   "execution_count": 54,
   "metadata": {},
   "outputs": [],
   "source": [
    "#linear search \n",
    "def linear_search (lyst, target_item):\n",
    "    size = len(lyst)\n",
    "    for index in range(size):\n",
    "        if lyst[index] == target_item:\n",
    "            return index\n",
    "    return -1\n",
    "    "
   ]
  },
  {
   "cell_type": "code",
   "execution_count": 55,
   "metadata": {},
   "outputs": [
    {
     "name": "stdout",
     "output_type": "stream",
     "text": [
      "Item is not in the list\n"
     ]
    }
   ],
   "source": [
    "test_lyst = [12, 55, 78, 9, 18, 19, 69, 10, 3, 21]\n",
    "search_value = 50\n",
    "position = linear_search(test_lyst, search_value)\n",
    "if position == -1:\n",
    "    print(\"Item is not in the list\")\n",
    "else:\n",
    "    print(f'Item {test_lyst[position]} is in the list at index {position}')"
   ]
  },
  {
   "cell_type": "markdown",
   "metadata": {},
   "source": [
    "Linear Search"
   ]
  },
  {
   "cell_type": "code",
   "execution_count": 56,
   "metadata": {},
   "outputs": [],
   "source": [
    "def linear_search(lyst, target):\n",
    "    comp_count = 0\n",
    "    for index, value in enumerate(lyst):\n",
    "        comp_count = comp_count + 1\n",
    "        if target == value:\n",
    "            print(f\"Linear Search comparison count: {comp_count}\")\n",
    "            return index\n",
    "    return -1 \n",
    "\n",
    "def binary_search(lyst, target):\n",
    "    lo = 0\n",
    "    hi = len(lyst) - 1\n",
    "    comp_count = 0\n",
    "    while lo <= hi:\n",
    "        comp_count = comp_count + 1\n",
    "        mid = (lo + hi) // 2\n",
    "        if lyst[mid] == target:\n",
    "            print(f\"Binary Search comparison count: {comp_count}\")\n",
    "            return mid \n",
    "        if lyst[mid] > target:\n",
    "            hi = mid - 1\n",
    "        else:\n",
    "            lo = mid + 1\n",
    "    print(f\"Binary Search comparison count: {comp_count}\")\n",
    "    return -1"
   ]
  },
  {
   "cell_type": "code",
   "execution_count": 57,
   "metadata": {},
   "outputs": [
    {
     "name": "stdout",
     "output_type": "stream",
     "text": [
      "Item to find: 100\n",
      "List: [1, 2, 3, 4, 5, 6, 7, 8, 9, 10, 11, 12, 13, 14, 15, 16, 17, 18, 19, 20, 21, 22, 23, 24, 25, 26, 27, 28, 29, 30, 31, 32, 33, 34, 35, 36, 37, 38, 39, 40, 41, 42, 43, 44, 45, 46, 47, 48, 49, 50, 51, 52, 53, 54, 55, 56, 57, 58, 59, 60, 61, 62, 63, 64, 65, 66, 67, 68, 69, 70, 71, 72, 73, 74, 75, 76, 77, 78, 79, 80, 81, 82, 83, 84, 85, 86, 87, 88, 89, 90, 91, 92, 93, 94, 95, 96, 97, 98, 99, 100]\n",
      "\n",
      "using linear search\n",
      "Linear Search comparison count: 100\n",
      "Item is located at the index 99\n",
      "\n",
      "using binary search\n",
      "Binary Search comparison count: 7\n",
      "Item is located at the index 99\n"
     ]
    }
   ],
   "source": [
    "# usngi list comprehensions, generate a list that contains \n",
    "# the intergers from 1 ot 100: [1, 2, 3, ...]\n",
    "sample_lyst = [x for x in range(1, 101)]\n",
    "search_item = 100\n",
    "print(f\"Item to find: {search_item}\")\n",
    "print(f\"List: {sample_lyst}\")\n",
    "print(\"\\nusing linear search\")\n",
    "position = linear_search(sample_lyst, search_item)\n",
    "if position != 1:\n",
    "    print(f\"Item is located at the index {position}\")\n",
    "else:\n",
    "    print(\"Item is not in the list\")\n",
    "print(\"\\nusing binary search\")\n",
    "position2 = binary_search(sample_lyst, search_item)\n",
    "if position2 != 1:\n",
    "    print(f\"Item is located at the index {position2}\")\n",
    "else:\n",
    "    print(\"Item is not in the list\")"
   ]
  },
  {
   "cell_type": "code",
   "execution_count": 58,
   "metadata": {},
   "outputs": [
    {
     "name": "stdout",
     "output_type": "stream",
     "text": [
      "2550\n"
     ]
    }
   ],
   "source": [
    "lyst3 = [x for x in range(1, 51)]\n",
    "sum_lyst3 = sum(lyst3)*2\n",
    "print(sum_lyst3)"
   ]
  },
  {
   "cell_type": "code",
   "execution_count": 59,
   "metadata": {},
   "outputs": [
    {
     "name": "stdout",
     "output_type": "stream",
     "text": [
      "Time elapsed:  0.19788789749145508\n"
     ]
    }
   ],
   "source": [
    "import time\n",
    "import random\n",
    "A = []\n",
    "for i in range(1, 1000):\n",
    "    A.append(random.randint(1,1000))\n",
    "\n",
    "def insertion_sort(A):\n",
    "    start = time.time()\n",
    "    for i in range(1, len(A)):\n",
    "        key = A[i]\n",
    "        j = i - 1\n",
    "        while j >= 0 and A[j] > key:\n",
    "            A[j+1] = A[j]\n",
    "            j = j - 1\n",
    "        A[j+1] = key\n",
    "    end = time.time()\n",
    "    print(\"Time elapsed: \", end-start)\n",
    "\n",
    "insertion_sort(A)"
   ]
  },
  {
   "cell_type": "markdown",
   "metadata": {},
   "source": [
    "Bubble Sort"
   ]
  },
  {
   "cell_type": "code",
   "execution_count": 60,
   "metadata": {},
   "outputs": [],
   "source": [
    "def bubble_sort(arr):\n",
    "    nItems = len(arr)\n",
    "    for last in range(nItems-1, 0 , -1):\n",
    "        for inner in range(last):\n",
    "            if arr[inner] > arr[inner+1]:\n",
    "                arr[inner], arr[inner+1] = arr[inner+1], arr[inner]\n",
    "    return arr"
   ]
  },
  {
   "cell_type": "code",
   "execution_count": 61,
   "metadata": {},
   "outputs": [
    {
     "name": "stdout",
     "output_type": "stream",
     "text": [
      "Original array: [64, 34, 25, 12, 22, 11, 90]\n",
      "Bubble sort result: [11, 12, 22, 25, 34, 64, 90]\n"
     ]
    }
   ],
   "source": [
    "sample_array = [64,34,25,12,22,11,90]\n",
    "print(f'Original array: {sample_array}')\n",
    "sorted_array_bubble = bubble_sort(sample_array)\n",
    "print(f'Bubble sort result: {sorted_array_bubble}')"
   ]
  },
  {
   "cell_type": "markdown",
   "metadata": {},
   "source": [
    "Selection Sort"
   ]
  },
  {
   "cell_type": "code",
   "execution_count": 62,
   "metadata": {},
   "outputs": [],
   "source": [
    "def selection_sort(arr):\n",
    "    nItems = len(arr)\n",
    "    for outer in range(nItems):\n",
    "        min = outer\n",
    "        for inner in range(outer+1, nItems):\n",
    "            if arr[inner] < arr[min]:\n",
    "                min = inner\n",
    "        arr[min], arr[outer] = arr[outer], arr[min]\n",
    "    return arr\n"
   ]
  },
  {
   "cell_type": "code",
   "execution_count": 63,
   "metadata": {},
   "outputs": [
    {
     "name": "stdout",
     "output_type": "stream",
     "text": [
      "Original array: [64, 34, 25, 12, 22, 11, 90]\n",
      "Bubble sort result: [11, 12, 22, 25, 34, 64, 90]\n",
      "Selection sort ressult: [11, 12, 22, 25, 34, 64, 90]\n"
     ]
    }
   ],
   "source": [
    "sample_array = [64,34,25,12,22,11,90]\n",
    "print(f'Original array: {sample_array}')\n",
    "sorted_array_bubble = bubble_sort(sample_array)\n",
    "print(f'Bubble sort result: {sorted_array_bubble}')\n",
    "sorter_array_selection = selection_sort(sample_array)\n",
    "print(f'Selection sort ressult: {sorter_array_selection}')"
   ]
  },
  {
   "cell_type": "code",
   "execution_count": 64,
   "metadata": {},
   "outputs": [],
   "source": [
    "def insertion_sort(arr):\n",
    "    nItems = len(arr)\n",
    "    for i in range(1, nItems):\n",
    "        # temp = arr[outer]\n",
    "        j = i\n",
    "        while j > 0 and arr[j-1] > arr[j]:\n",
    "            arr[j], arr[j-1] = arr[j-1], arr[j]\n",
    "            j = j -1\n",
    "    return arr"
   ]
  },
  {
   "cell_type": "code",
   "execution_count": 65,
   "metadata": {},
   "outputs": [
    {
     "name": "stdout",
     "output_type": "stream",
     "text": [
      "Original array: [64, 34, 25, 12, 22, 11, 90]\n",
      "Bubble sort result: [11, 12, 22, 25, 34, 64, 90]\n",
      "Selection sort ressult: [11, 12, 22, 25, 34, 64, 90]\n",
      "Insertion sort ressult: [11, 12, 22, 25, 34, 64, 90]\n"
     ]
    }
   ],
   "source": [
    "sample_array = [64,34,25,12,22,11,90]\n",
    "print(f'Original array: {sample_array}')\n",
    "sorted_array_bubble = bubble_sort(sample_array)\n",
    "print(f'Bubble sort result: {sorted_array_bubble}')\n",
    "sorter_array_selection = selection_sort(sample_array)\n",
    "print(f'Selection sort ressult: {sorter_array_selection}')\n",
    "sorter_array_insertion = insertion_sort(sample_array)\n",
    "print(f'Insertion sort ressult: {sorter_array_selection}')"
   ]
  },
  {
   "cell_type": "code",
   "execution_count": 66,
   "metadata": {},
   "outputs": [],
   "source": [
    "def insertion_sort(arr):\n",
    "    nItems = len(arr)\n",
    "    for i in range(1, nItems):\n",
    "        # temp = arr[outer]\n",
    "        j = i\n",
    "        while j > 0 and arr[j-1] > arr[j]:\n",
    "            arr[j], arr[j-1] = arr[j-1], arr[j]\n",
    "            j = j -1\n",
    "    return arr\n",
    "    \n",
    "def median(arr):\n",
    "    sorted_arr = insertion_sort(arr)\n",
    "    nItems = len(sorted_arr)\n",
    "    if nItems %  2 != 0:\n",
    "        med = sorted_arr[nItems // 2]\n",
    "    else:\n",
    "        med = (sorted_arr[nItems//2-1]+sorted_arr[nItems//2])/2\n",
    "    return med\n"
   ]
  },
  {
   "cell_type": "code",
   "execution_count": 67,
   "metadata": {},
   "outputs": [
    {
     "name": "stdout",
     "output_type": "stream",
     "text": [
      "Your even median: 28.5\n",
      "Your odd median: 34\n"
     ]
    }
   ],
   "source": [
    "sample_arr_even = [23, 12, 34, 56, 7, 46]\n",
    "sample_arr_odd = [23, 12, 34, 56, 7, 46, 56]\n",
    "even_median = median(sample_arr_even)\n",
    "odd_median = median(sample_arr_even)\n",
    "print(f\"Your even median: {even_median}\")\n",
    "odd_median = median(sample_arr_odd)\n",
    "print(f\"Your odd median: {odd_median}\")"
   ]
  },
  {
   "cell_type": "code",
   "execution_count": 68,
   "metadata": {},
   "outputs": [],
   "source": [
    "class Node(object):\n",
    "\tdef __init__(self, data, next = None):\n",
    "\t\tself.data = data\n",
    "\t\tself.next = next"
   ]
  },
  {
   "cell_type": "code",
   "execution_count": 69,
   "metadata": {},
   "outputs": [],
   "source": [
    "from node import Node\n"
   ]
  },
  {
   "cell_type": "code",
   "execution_count": 70,
   "metadata": {},
   "outputs": [],
   "source": [
    "node1 = Node('A')"
   ]
  },
  {
   "cell_type": "code",
   "execution_count": 71,
   "metadata": {},
   "outputs": [
    {
     "name": "stdout",
     "output_type": "stream",
     "text": [
      "node1 data: A\n"
     ]
    },
    {
     "ename": "AttributeError",
     "evalue": "'Node' object has no attribute 'next'",
     "output_type": "error",
     "traceback": [
      "\u001b[1;31m---------------------------------------------------------------------------\u001b[0m",
      "\u001b[1;31mAttributeError\u001b[0m                            Traceback (most recent call last)",
      "Cell \u001b[1;32mIn[71], line 2\u001b[0m\n\u001b[0;32m      1\u001b[0m \u001b[38;5;28mprint\u001b[39m(\u001b[38;5;124mf\u001b[39m\u001b[38;5;124m\"\u001b[39m\u001b[38;5;124mnode1 data: \u001b[39m\u001b[38;5;132;01m{\u001b[39;00mnode1\u001b[38;5;241m.\u001b[39mdata\u001b[38;5;132;01m}\u001b[39;00m\u001b[38;5;124m\"\u001b[39m)\n\u001b[1;32m----> 2\u001b[0m \u001b[38;5;28mprint\u001b[39m(\u001b[38;5;124mf\u001b[39m\u001b[38;5;124m\"\u001b[39m\u001b[38;5;124mnode1 link: \u001b[39m\u001b[38;5;132;01m{\u001b[39;00mnode1\u001b[38;5;241m.\u001b[39mnext\u001b[38;5;132;01m}\u001b[39;00m\u001b[38;5;124m\"\u001b[39m)\n",
      "\u001b[1;31mAttributeError\u001b[0m: 'Node' object has no attribute 'next'"
     ]
    }
   ],
   "source": [
    "print(f\"node1 data: {node1.data}\")\n",
    "print(f\"node1 link: {node1.next}\")"
   ]
  },
  {
   "cell_type": "code",
   "execution_count": null,
   "metadata": {},
   "outputs": [
    {
     "name": "stdout",
     "output_type": "stream",
     "text": [
      "node2 data: B\n",
      "node2 link: None\n"
     ]
    }
   ],
   "source": [
    "node2 = Node(\"B\", None)\n",
    "print(f\"node2 data: {node2.data}\")\n",
    "print(f\"node2 link: {node2.next}\")"
   ]
  },
  {
   "cell_type": "code",
   "execution_count": null,
   "metadata": {},
   "outputs": [],
   "source": [
    "node3 = Node(\"M\")\n",
    "node4 = Node(\"P\")"
   ]
  },
  {
   "cell_type": "code",
   "execution_count": null,
   "metadata": {},
   "outputs": [],
   "source": [
    "node1.next = node2      # this links node1 to node2"
   ]
  },
  {
   "cell_type": "code",
   "execution_count": null,
   "metadata": {},
   "outputs": [
    {
     "name": "stdout",
     "output_type": "stream",
     "text": [
      "B\n"
     ]
    }
   ],
   "source": [
    "print(node1.next.data)"
   ]
  },
  {
   "cell_type": "code",
   "execution_count": null,
   "metadata": {},
   "outputs": [
    {
     "name": "stdout",
     "output_type": "stream",
     "text": [
      "M\n",
      "P\n"
     ]
    }
   ],
   "source": [
    "# link node2 to node3 and node3 to node4\n",
    "node2.next = node3\n",
    "print(node2.next.data)\n",
    "node3.next = node4\n",
    "print(node3.next.data)"
   ]
  },
  {
   "cell_type": "code",
   "execution_count": null,
   "metadata": {},
   "outputs": [
    {
     "name": "stdout",
     "output_type": "stream",
     "text": [
      "M\n"
     ]
    }
   ],
   "source": [
    "print(node1.next.next.data)"
   ]
  },
  {
   "cell_type": "code",
   "execution_count": null,
   "metadata": {},
   "outputs": [],
   "source": [
    "head = node1"
   ]
  },
  {
   "cell_type": "code",
   "execution_count": null,
   "metadata": {},
   "outputs": [
    {
     "name": "stdout",
     "output_type": "stream",
     "text": [
      "A\n",
      "B\n",
      "M\n",
      "P\n"
     ]
    }
   ],
   "source": [
    "# Transverse through the elements of the linked list\n",
    "current = head\n",
    "while current != None:\n",
    "    print(current.data)\n",
    "    current = current.next"
   ]
  },
  {
   "cell_type": "code",
   "execution_count": null,
   "metadata": {},
   "outputs": [],
   "source": [
    "def searchItem(head, targetItem):\n",
    "    current = head\n",
    "    while current != None and targetItem != current.data:\n",
    "        current = current.link\n",
    "    if current != None:\n",
    "        print(\"Search Item is in the list\")\n",
    "    else:\n",
    "         print(\"Search Item is not in the list\")"
   ]
  },
  {
   "cell_type": "code",
   "execution_count": null,
   "metadata": {},
   "outputs": [
    {
     "name": "stdout",
     "output_type": "stream",
     "text": [
      "Search Item is in the list\n"
     ]
    }
   ],
   "source": [
    "targetItem = \"A\"\n",
    "searchItem(head, targetItem)"
   ]
  },
  {
   "cell_type": "code",
   "execution_count": null,
   "metadata": {},
   "outputs": [],
   "source": [
    "from node import Node "
   ]
  },
  {
   "cell_type": "code",
   "execution_count": null,
   "metadata": {},
   "outputs": [],
   "source": [
    "class SinglyLinkedList:\n",
    "    def __init__(self):\n",
    "        self.head = None\n",
    "    def print_list(self):\n",
    "        current = self.head\n",
    "        while current != None:\n",
    "            if current != None:\n",
    "                print(current.data, end = '-->')\n",
    "            else:\n",
    "                print(current.data)\n",
    "            current = current.next\n",
    "    def insert_at_end(self, new_data):\n",
    "        new_node = Node(new_data)\n",
    "        if self.head == None:\n",
    "            self.head = new_node \n",
    "            return\n",
    "        last_node = self.head\n",
    "        while last_node.next != None:\n",
    "            last_node = last_node.next\n",
    "        last_node.next = new_node \n",
    "    def search_list(self):\n",
    "        pass\n",
    "\n",
    "class Node(object):\n",
    "\tdef __init__(self, data, next = None):\n",
    "\t\tself.data = data\n",
    "\t\tself.next = next"
   ]
  },
  {
   "cell_type": "code",
   "execution_count": null,
   "metadata": {},
   "outputs": [
    {
     "name": "stdout",
     "output_type": "stream",
     "text": [
      "PROGCON-->PROGCON-->DATASTRUC-->"
     ]
    }
   ],
   "source": [
    "#LYNDO\n",
    "sll = SinglyLinkedList()\n",
    "sll.insert_at_end('PROGCON')\n",
    "sll.print_list()\n",
    "sll.insert_at_end('DATASTRUC')\n",
    "sll.print_list()\n",
    "sll.insert_at_end('OPESYS')"
   ]
  },
  {
   "cell_type": "code",
   "execution_count": null,
   "metadata": {},
   "outputs": [],
   "source": [
    "# Implement a Stack data structure using a Python list\n",
    "\n",
    "class Stack(object):\n",
    "   def __init__(self, max):            # Constructor\n",
    "      self.__stackList = [None] * max  # The stack stored as a list\n",
    "      self.__top = -1                  # No items initially\n",
    "        \n",
    "   def push(self, item):               # Insert item at top of stack\n",
    "      self.__top += 1                  # Advance the pointer\n",
    "      self.__stackList[self.__top] = item  # Store item\n",
    "        \n",
    "   def pop(self):                      # Remove top item from stack\n",
    "      top = self.__stackList[self.__top]   # Top item \n",
    "      self.__stackList[self.__top] = None  # Remove item reference\n",
    "      self.__top -= 1                  # Decrease the pointer\n",
    "      return top                       # Return top item\n",
    "    \n",
    "   def peek(self):                     # Return top item\n",
    "      if not self.isEmpty():           # If stack is not empty\n",
    "         return self.__stackList[self.__top] # Return the top item\n",
    "    \n",
    "   def isEmpty(self):                  # Check if stack is empty\n",
    "      return self.__top < 0\n",
    "\n",
    "   def isFull(self):                   # Check if stack is full\n",
    "      return self.__top >= len(self.__stackList) - 1\n",
    "\n",
    "   def __len__(self):                  # Return # of items on stack\n",
    "      return self.__top + 1\n",
    "    \n",
    "   def __str__(self):                  # Convert stack to string\n",
    "      ans = \"[\"                        # Start with left bracket\n",
    "      for i in range(self.__top + 1):  # Loop through current items\n",
    "         if len(ans) > 1:              # Except next to left bracket,\n",
    "            ans += \", \"                # separate items with comma\n",
    "         ans += str(self.__stackList[i]) # Add string form of item\n",
    "      ans += \"]\"                       # Close with right bracket\n",
    "      return ans\n",
    "\n",
    "# Implement a Stack data structure using a linked list\n",
    "\n",
    "from LinkedList import *\n",
    "\n",
    "class LinkStack(object):\n",
    "   def __init__(self):                 # Constructor for a\n",
    "      self.__sList = LinkedList()      # stack stored as a linked list\n",
    "        \n",
    "   def push(self, item):               # Insert item at top of stack\n",
    "      self.__sList.insert(item)        # Store item as first in list\n",
    "        \n",
    "   def pop(self):                      # Remove top item from stack\n",
    "      return self.__sList.deleteFirst() # Return first and delete it\n",
    "    \n",
    "   def peek(self):                     # Return top item\n",
    "      if not self.__sList.isEmpty():   # If stack is not empty\n",
    "         return self.__sList.first()   # Return the top item\n",
    "    \n",
    "   def isEmpty(self):                  # Check if stack is empty\n",
    "      return self.__sList.isEmpty()\n",
    "\n",
    "   def __len__(self):                  # Return # of items on stack\n",
    "      return len(self.__sList)\n",
    "    \n",
    "   def __str__(self):                  # Convert stack to string\n",
    "      return str(self.__sList)\n",
    "\n",
    "class Stack(LinkedList):               # Define stack by renaming\n",
    "   push = LinkedList.insert            # Push is done by insert\n",
    "   pop = LinkedList.deleteFirst        # Pop is done by deleteFirst\n",
    "   peek = LinkedList.first             # Peek is done by first\n",
    "\n"
   ]
  },
  {
   "cell_type": "code",
   "execution_count": null,
   "metadata": {},
   "outputs": [],
   "source": []
  },
  {
   "cell_type": "code",
   "execution_count": 2,
   "metadata": {},
   "outputs": [],
   "source": [
    "# \"(a + b)\" - balanced \n",
    "from SimpleStack import *\n",
    "from LinkStack import *\n",
    "\n",
    "def check_brackets_balanced(exp):\n",
    "    stk = LinkStack()\n",
    "    # stk = Stack(10)\n",
    "    for ch in exp:\n",
    "        if ch in ['[', '(']:\n",
    "            stk.push(ch)\n",
    "        elif ch in [']', ')']:\n",
    "            if stk.isEmpty():\n",
    "                return False \n",
    "            ch_from_stk = stk.pop()\n",
    "            if ch == ']' and ch_from_stk != '[' or ch == ')' and ch_from_stk != '(':\n",
    "                return False\n",
    "    return stk.isEmpty() "
   ]
  },
  {
   "cell_type": "code",
   "execution_count": 3,
   "metadata": {},
   "outputs": [
    {
     "name": "stdout",
     "output_type": "stream",
     "text": [
      "bat di ka balanced\n"
     ]
    }
   ],
   "source": [
    "# use a test exp\n",
    "my_test = \"[)[]([])[])]\"\n",
    "if check_brackets_balanced(my_test):\n",
    "    print(\"balance ka\")\n",
    "else:\n",
    "    print(\"bat di ka balanced\")"
   ]
  },
  {
   "cell_type": "code",
   "execution_count": 1,
   "metadata": {},
   "outputs": [],
   "source": [
    "from Queue import *"
   ]
  }
 ],
 "metadata": {
  "interpreter": {
   "hash": "b89b5cfaba6639976dc87ff2fec6d58faec662063367e2c229c520fe71072417"
  },
  "kernelspec": {
   "display_name": "Python 3.10.3 64-bit",
   "language": "python",
   "name": "python3"
  },
  "language_info": {
   "codemirror_mode": {
    "name": "ipython",
    "version": 3
   },
   "file_extension": ".py",
   "mimetype": "text/x-python",
   "name": "python",
   "nbconvert_exporter": "python",
   "pygments_lexer": "ipython3",
   "version": "3.10.3"
  },
  "orig_nbformat": 4
 },
 "nbformat": 4,
 "nbformat_minor": 2
}
